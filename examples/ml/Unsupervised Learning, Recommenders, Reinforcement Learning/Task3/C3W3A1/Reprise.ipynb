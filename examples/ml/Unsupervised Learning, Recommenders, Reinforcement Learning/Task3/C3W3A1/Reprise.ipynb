{
 "cells": [
  {
   "cell_type": "markdown",
   "id": "d6a0f0e7-b0a7-4cf0-b446-8032bbe0b678",
   "metadata": {},
   "source": [
    "# Deep Q-Learning - Lunar Lander\n",
    "\n",
    "Dans le cadre de cette mission, vous formerez un agent à l'atterrissage d'un module lunaire en toute sécurité sur une plate-forme d'atterrissage à la surface de la lune.\n",
    "\n",
    "\n",
    "# Outline\n",
    "- [ 1 - Import Packages <img align=\"Right\" src=\"./images/lunar_lander.gif\" width = 60% >](#1)\n",
    "- [ 2 - Hyperparameters](#2)\n",
    "- [ 3 - The Lunar Lander Environment](#3)\n",
    "  - [ 3.1 Action Space](#3.1)\n",
    "  - [ 3.2 Observation Space](#3.2)\n",
    "  - [ 3.3 Rewards](#3.3)\n",
    "  - [ 3.4 Episode Termination](#3.4)\n",
    "- [ 4 - Load the Environment](#4)\n",
    "- [ 5 - Interacting with the Gym Environment](#5)\n",
    "    - [ 5.1 Exploring the Environment's Dynamics](#5.1)\n",
    "- [ 6 - Deep Q-Learning](#6)\n",
    "  - [ 6.1 Target Network](#6.1)\n",
    "    - [ Exercise 1](#ex01)\n",
    "  - [ 6.2 Experience Replay](#6.2)\n",
    "- [ 7 - Deep Q-Learning Algorithm with Experience Replay](#7)\n",
    "  - [ Exercise 2](#ex02)\n",
    "- [ 8 - Update the Network Weights](#8)\n",
    "- [ 9 - Train the Agent](#9)\n",
    "- [ 10 - See the Trained Agent In Action](#10)\n",
    "- [ 11 - Congratulations!](#11)\n",
    "- [ 12 - References](#12)\n"
   ]
  },
  {
   "cell_type": "markdown",
   "id": "561e4334-63fe-4752-96d6-60b3c1d412b8",
   "metadata": {},
   "source": [
    "<a name=\"1\"></a>\n",
    "## 1 - Importer des paquets\n",
    "\n",
    "Nous allons utiliser les paquets suivants :\n",
    "- `numpy` est un package pour le calcul scientifique en python.\n",
    "- `deque` sera notre structure de données pour notre mémoire tampon.\n",
    "- `namedtuple` sera utilisé pour stocker les tuples d'expérience.\n",
    "- La boîte à outils `gym` est une collection d'environnements qui peuvent être utilisés pour tester les algorithmes d'apprentissage par renforcement. Nous devons noter que dans ce carnet nous utilisons la version `gym` `0.24.0`.\n",
    "- `PIL.Image` et `pyvirtualdisplay` sont nécessaires pour rendre l'environnement Lunar Lander.\n",
    "- Nous allons utiliser plusieurs modules du framework `tensorflow.keras` pour construire des modèles d'apprentissage profond.\n",
    "- `utils` est un module qui contient des fonctions d'aide pour ce travail. Vous n'avez pas besoin de modifier le code dans ce fichier.\n",
    "\n",
    "Exécutez la cellule ci-dessous pour importer tous les paquets nécessaires."
   ]
  },
  {
   "cell_type": "code",
   "execution_count": 6,
   "id": "224d2634-939d-4695-95f6-d956babe5ba2",
   "metadata": {},
   "outputs": [],
   "source": [
    "import time\n",
    "from collections import deque, namedtuple\n",
    "import gym\n",
    "import numpy as np\n",
    "import PIL.Image\n",
    "import tensorflow as tf\n",
    "import utils\n",
    "\n",
    "from pyvirtualdisplay import Display\n",
    "from tensorflow.keras import Sequential\n",
    "from tensorflow.keras.layers import Dense, Input\n",
    "from tensorflow.keras.losses import MSE\n",
    "from tensorflow.keras.optimizers import Adam"
   ]
  },
  {
   "cell_type": "code",
   "execution_count": 7,
   "id": "8d2656de-1eb1-4d7a-ab09-1f02cdb4a0ae",
   "metadata": {},
   "outputs": [],
   "source": [
    "# Set up a virtual display to render the Lunar Lander environment.\n",
    "Display(visible=0, size=(840, 480)).start();\n",
    "\n",
    "# Set the random seed for TensorFlow\n",
    "tf.random.set_seed(utils.SEED)"
   ]
  },
  {
   "cell_type": "markdown",
   "id": "aa052600-8665-4305-a6a4-68189bebbc15",
   "metadata": {},
   "source": [
    "<a name=\"2\"></a>\n",
    "## 2 - Hyperparamètres\n",
    "\n",
    "Exécutez la cellule ci-dessous pour définir les hyperparamètres."
   ]
  },
  {
   "cell_type": "code",
   "execution_count": 8,
   "id": "6e77fcad-a609-4f26-b214-6a9de9c60b2f",
   "metadata": {},
   "outputs": [],
   "source": [
    "MEMORY_SIZE = 100_000     # size of memory buffer\n",
    "GAMMA = 0.995             # discount factor\n",
    "ALPHA = 1e-3              # learning rate  \n",
    "NUM_STEPS_FOR_UPDATE = 4  # perform a learning update every C time steps"
   ]
  },
  {
   "cell_type": "markdown",
   "id": "24a169e5-ef23-4db1-8898-b3ae3f6b4e81",
   "metadata": {},
   "source": [
    "<a name=\"3\"></a>\n",
    "## 3 - L'environnement de l'atterrisseur lunaire\n",
    "\n",
    "Dans ce cahier, nous utiliserons [OpenAI's Gym Library](https://www.gymlibrary.ml/). La bibliothèque Gym fournit une grande variété d'environnements pour l'apprentissage par renforcement. Pour simplifier, un environnement représente un problème ou une tâche à résoudre. Dans ce cahier, nous allons essayer de résoudre l'environnement Lunar Lander en utilisant l'apprentissage par renforcement.\n",
    "\n",
    "L'objectif de l'environnement Lunar Lander est de faire atterrir l'atterrisseur lunaire en toute sécurité sur la plate-forme d'atterrissage à la surface de la lune. La plateforme d'atterrissage est désignée par deux mâts et se trouve toujours aux coordonnées `(0,0)` mais l'atterrisseur est également autorisé à atterrir en dehors de la plateforme d'atterrissage. L'atterrisseur démarre au centre supérieur de l'environnement avec une force initiale aléatoire appliquée à son centre de masse et dispose d'un carburant infini. L'environnement est considéré comme résolu si vous obtenez `200` points. \n",
    "\n",
    "<br>\n",
    "<br>\n",
    "<figure>\n",
    "  <img src = \"images/lunar_lander.gif\" width = 40%>\n",
    "      <figcaption style = \"text-align: center; font-style: italic\">Fig 1. Lunar Lander Environment.</figcaption>\n",
    "</figure>\n",
    "\n",
    "\n",
    "\n",
    "<a name=\"3.1\"></a>\n",
    "### 3.1 Espace d'action\n",
    "\n",
    "L'agent dispose de quatre actions discrètes :\n",
    "\n",
    "* Ne rien faire.\n",
    "* Mettre le moteur droit en marche.\n",
    "* Mettre le moteur principal en marche.\n",
    "* Mettre le moteur gauche en marche.\n",
    "\n",
    "Chaque action a une valeur numérique correspondante :\n",
    "\n",
    "```python\n",
    "Do nothing = 0\n",
    "Fire right engine = 1\n",
    "Fire main engine = 2\n",
    "Fire left engine = 3\n",
    "```\n",
    "\n",
    "<a name=\"3.2\"></a>\n",
    "### 3.2 Espace d'observation\n",
    "\n",
    "L'espace d'observation de l'agent consiste en un vecteur d'état avec 8 variables :\n",
    "\n",
    "* Ses coordonnées $(x,y)$. La plateforme d'atterrissage est toujours aux coordonnées $(0,0)$.\n",
    "* Ses vitesses linéaires $(\\dot x,\\dot y)$.\n",
    "* Son angle $\\theta$.\n",
    "* Sa vitesse angulaire $\\dot \\theta$.\n",
    "* Deux booléens, $l$ et $r$, qui représentent si chaque jambe est en contact avec le sol ou non.\n",
    "\n",
    "<a name=\"3.3\"></a>\n",
    "### 3.3 Récompenses\n",
    "\n",
    "L'environnement Lunar Lander dispose du système de récompense suivant :\n",
    "\n",
    "* L'atterrissage sur la plate-forme d'atterrissage et l'immobilisation de l'engin rapportent environ 100 à 140 points.\n",
    "* Si l'atterrisseur s'éloigne de la plate-forme d'atterrissage, il perd des points. \n",
    "* Si l'atterrisseur s'écrase, il reçoit -100 points.\n",
    "* Si l'atterrisseur s'immobilise, il reçoit +100 points.\n",
    "* Chaque jambe en contact avec le sol est récompensée par +10 points.\n",
    "* L'allumage du moteur principal rapporte -0,3 point par image.\n",
    "* L'allumage du moteur latéral rapporte -0,03 point par image.\n",
    "\n",
    "<a name=\"3.4\"></a>\n",
    "### 3.4 Fin de l'épisode\n",
    "\n",
    "Un épisode se termine (c'est-à-dire que l'environnement entre dans un état terminal) si :\n",
    "\n",
    "* l'atterrisseur lunaire s'écrase (c'est-à-dire si le corps de l'atterrisseur lunaire entre en contact avec la surface de la lune).\n",
    "\n",
    "* La coordonnée $x$ de l'atterrisseur est supérieure à 1.\n",
    "\n",
    "Vous pouvez consulter la [documentation Open AI Gym] (https://www.gymlibrary.ml/environments/box2d/lunar_lander/) pour une description complète de l'environnement. "
   ]
  },
  {
   "cell_type": "markdown",
   "id": "c3037107-447b-4677-ae5f-515330e1715e",
   "metadata": {},
   "source": [
    "<a name=\"4\"></a>\n",
    "## 4 - Charger l'environnement\n",
    "\n",
    "Nous commençons par charger l'environnement `LunarLander-v2` depuis la bibliothèque `gym` en utilisant la méthode `.make()`. `LunarLander-v2` est la dernière version de l'environnement Lunar Lander et vous pouvez lire l'historique de ses versions dans la [documentation Open AI Gym] (https://www.gymlibrary.ml/environments/box2d/lunar_lander/#version-history)."
   ]
  },
  {
   "cell_type": "code",
   "execution_count": 9,
   "id": "43f1caf3-377a-4574-8989-587665a284de",
   "metadata": {
    "scrolled": true
   },
   "outputs": [
    {
     "ename": "DependencyNotInstalled",
     "evalue": "box2D is not installed, run `pip install gym[box2d]`",
     "output_type": "error",
     "traceback": [
      "\u001b[0;31m---------------------------------------------------------------------------\u001b[0m",
      "\u001b[0;31mModuleNotFoundError\u001b[0m                       Traceback (most recent call last)",
      "File \u001b[0;32m~/anaconda3/lib/python3.11/site-packages/gym/envs/box2d/bipedal_walker.py:14\u001b[0m\n\u001b[1;32m     13\u001b[0m \u001b[38;5;28;01mtry\u001b[39;00m:\n\u001b[0;32m---> 14\u001b[0m     \u001b[38;5;28;01mimport\u001b[39;00m \u001b[38;5;21;01mBox2D\u001b[39;00m\n\u001b[1;32m     15\u001b[0m     \u001b[38;5;28;01mfrom\u001b[39;00m \u001b[38;5;21;01mBox2D\u001b[39;00m\u001b[38;5;21;01m.\u001b[39;00m\u001b[38;5;21;01mb2\u001b[39;00m \u001b[38;5;28;01mimport\u001b[39;00m (\n\u001b[1;32m     16\u001b[0m         circleShape,\n\u001b[1;32m     17\u001b[0m         contactListener,\n\u001b[0;32m   (...)\u001b[0m\n\u001b[1;32m     21\u001b[0m         revoluteJointDef,\n\u001b[1;32m     22\u001b[0m     )\n",
      "\u001b[0;31mModuleNotFoundError\u001b[0m: No module named 'Box2D'",
      "\nDuring handling of the above exception, another exception occurred:\n",
      "\u001b[0;31mDependencyNotInstalled\u001b[0m                    Traceback (most recent call last)",
      "Cell \u001b[0;32mIn[9], line 1\u001b[0m\n\u001b[0;32m----> 1\u001b[0m env \u001b[38;5;241m=\u001b[39m gym\u001b[38;5;241m.\u001b[39mmake(\u001b[38;5;124m'\u001b[39m\u001b[38;5;124mLunarLander-v2\u001b[39m\u001b[38;5;124m'\u001b[39m)\n",
      "File \u001b[0;32m~/anaconda3/lib/python3.11/site-packages/gym/envs/registration.py:595\u001b[0m, in \u001b[0;36mmake\u001b[0;34m(id, max_episode_steps, autoreset, disable_env_checker, **kwargs)\u001b[0m\n\u001b[1;32m    592\u001b[0m     \u001b[38;5;28mcls\u001b[39m \u001b[38;5;241m=\u001b[39m spec_\u001b[38;5;241m.\u001b[39mentry_point\n\u001b[1;32m    593\u001b[0m \u001b[38;5;28;01melse\u001b[39;00m:\n\u001b[1;32m    594\u001b[0m     \u001b[38;5;66;03m# Assume it's a string\u001b[39;00m\n\u001b[0;32m--> 595\u001b[0m     \u001b[38;5;28mcls\u001b[39m \u001b[38;5;241m=\u001b[39m load(spec_\u001b[38;5;241m.\u001b[39mentry_point)\n\u001b[1;32m    597\u001b[0m env \u001b[38;5;241m=\u001b[39m \u001b[38;5;28mcls\u001b[39m(\u001b[38;5;241m*\u001b[39m\u001b[38;5;241m*\u001b[39m_kwargs)\n\u001b[1;32m    599\u001b[0m spec_ \u001b[38;5;241m=\u001b[39m copy\u001b[38;5;241m.\u001b[39mdeepcopy(spec_)\n",
      "File \u001b[0;32m~/anaconda3/lib/python3.11/site-packages/gym/envs/registration.py:48\u001b[0m, in \u001b[0;36mload\u001b[0;34m(name)\u001b[0m\n\u001b[1;32m     46\u001b[0m \u001b[38;5;28;01mdef\u001b[39;00m \u001b[38;5;21mload\u001b[39m(name: \u001b[38;5;28mstr\u001b[39m) \u001b[38;5;241m-\u001b[39m\u001b[38;5;241m>\u001b[39m \u001b[38;5;28mtype\u001b[39m:\n\u001b[1;32m     47\u001b[0m     mod_name, attr_name \u001b[38;5;241m=\u001b[39m name\u001b[38;5;241m.\u001b[39msplit(\u001b[38;5;124m\"\u001b[39m\u001b[38;5;124m:\u001b[39m\u001b[38;5;124m\"\u001b[39m)\n\u001b[0;32m---> 48\u001b[0m     mod \u001b[38;5;241m=\u001b[39m importlib\u001b[38;5;241m.\u001b[39mimport_module(mod_name)\n\u001b[1;32m     49\u001b[0m     fn \u001b[38;5;241m=\u001b[39m \u001b[38;5;28mgetattr\u001b[39m(mod, attr_name)\n\u001b[1;32m     50\u001b[0m     \u001b[38;5;28;01mreturn\u001b[39;00m fn\n",
      "File \u001b[0;32m~/anaconda3/lib/python3.11/importlib/__init__.py:126\u001b[0m, in \u001b[0;36mimport_module\u001b[0;34m(name, package)\u001b[0m\n\u001b[1;32m    124\u001b[0m             \u001b[38;5;28;01mbreak\u001b[39;00m\n\u001b[1;32m    125\u001b[0m         level \u001b[38;5;241m+\u001b[39m\u001b[38;5;241m=\u001b[39m \u001b[38;5;241m1\u001b[39m\n\u001b[0;32m--> 126\u001b[0m \u001b[38;5;28;01mreturn\u001b[39;00m _bootstrap\u001b[38;5;241m.\u001b[39m_gcd_import(name[level:], package, level)\n",
      "File \u001b[0;32m<frozen importlib._bootstrap>:1204\u001b[0m, in \u001b[0;36m_gcd_import\u001b[0;34m(name, package, level)\u001b[0m\n",
      "File \u001b[0;32m<frozen importlib._bootstrap>:1176\u001b[0m, in \u001b[0;36m_find_and_load\u001b[0;34m(name, import_)\u001b[0m\n",
      "File \u001b[0;32m<frozen importlib._bootstrap>:1126\u001b[0m, in \u001b[0;36m_find_and_load_unlocked\u001b[0;34m(name, import_)\u001b[0m\n",
      "File \u001b[0;32m<frozen importlib._bootstrap>:241\u001b[0m, in \u001b[0;36m_call_with_frames_removed\u001b[0;34m(f, *args, **kwds)\u001b[0m\n",
      "File \u001b[0;32m<frozen importlib._bootstrap>:1204\u001b[0m, in \u001b[0;36m_gcd_import\u001b[0;34m(name, package, level)\u001b[0m\n",
      "File \u001b[0;32m<frozen importlib._bootstrap>:1176\u001b[0m, in \u001b[0;36m_find_and_load\u001b[0;34m(name, import_)\u001b[0m\n",
      "File \u001b[0;32m<frozen importlib._bootstrap>:1147\u001b[0m, in \u001b[0;36m_find_and_load_unlocked\u001b[0;34m(name, import_)\u001b[0m\n",
      "File \u001b[0;32m<frozen importlib._bootstrap>:690\u001b[0m, in \u001b[0;36m_load_unlocked\u001b[0;34m(spec)\u001b[0m\n",
      "File \u001b[0;32m<frozen importlib._bootstrap_external>:940\u001b[0m, in \u001b[0;36mexec_module\u001b[0;34m(self, module)\u001b[0m\n",
      "File \u001b[0;32m<frozen importlib._bootstrap>:241\u001b[0m, in \u001b[0;36m_call_with_frames_removed\u001b[0;34m(f, *args, **kwds)\u001b[0m\n",
      "File \u001b[0;32m~/anaconda3/lib/python3.11/site-packages/gym/envs/box2d/__init__.py:1\u001b[0m\n\u001b[0;32m----> 1\u001b[0m \u001b[38;5;28;01mfrom\u001b[39;00m \u001b[38;5;21;01mgym\u001b[39;00m\u001b[38;5;21;01m.\u001b[39;00m\u001b[38;5;21;01menvs\u001b[39;00m\u001b[38;5;21;01m.\u001b[39;00m\u001b[38;5;21;01mbox2d\u001b[39;00m\u001b[38;5;21;01m.\u001b[39;00m\u001b[38;5;21;01mbipedal_walker\u001b[39;00m \u001b[38;5;28;01mimport\u001b[39;00m BipedalWalker, BipedalWalkerHardcore\n\u001b[1;32m      2\u001b[0m \u001b[38;5;28;01mfrom\u001b[39;00m \u001b[38;5;21;01mgym\u001b[39;00m\u001b[38;5;21;01m.\u001b[39;00m\u001b[38;5;21;01menvs\u001b[39;00m\u001b[38;5;21;01m.\u001b[39;00m\u001b[38;5;21;01mbox2d\u001b[39;00m\u001b[38;5;21;01m.\u001b[39;00m\u001b[38;5;21;01mcar_racing\u001b[39;00m \u001b[38;5;28;01mimport\u001b[39;00m CarRacing\n\u001b[1;32m      3\u001b[0m \u001b[38;5;28;01mfrom\u001b[39;00m \u001b[38;5;21;01mgym\u001b[39;00m\u001b[38;5;21;01m.\u001b[39;00m\u001b[38;5;21;01menvs\u001b[39;00m\u001b[38;5;21;01m.\u001b[39;00m\u001b[38;5;21;01mbox2d\u001b[39;00m\u001b[38;5;21;01m.\u001b[39;00m\u001b[38;5;21;01mlunar_lander\u001b[39;00m \u001b[38;5;28;01mimport\u001b[39;00m LunarLander, LunarLanderContinuous\n",
      "File \u001b[0;32m~/anaconda3/lib/python3.11/site-packages/gym/envs/box2d/bipedal_walker.py:24\u001b[0m\n\u001b[1;32m     15\u001b[0m     \u001b[38;5;28;01mfrom\u001b[39;00m \u001b[38;5;21;01mBox2D\u001b[39;00m\u001b[38;5;21;01m.\u001b[39;00m\u001b[38;5;21;01mb2\u001b[39;00m \u001b[38;5;28;01mimport\u001b[39;00m (\n\u001b[1;32m     16\u001b[0m         circleShape,\n\u001b[1;32m     17\u001b[0m         contactListener,\n\u001b[0;32m   (...)\u001b[0m\n\u001b[1;32m     21\u001b[0m         revoluteJointDef,\n\u001b[1;32m     22\u001b[0m     )\n\u001b[1;32m     23\u001b[0m \u001b[38;5;28;01mexcept\u001b[39;00m \u001b[38;5;167;01mImportError\u001b[39;00m:\n\u001b[0;32m---> 24\u001b[0m     \u001b[38;5;28;01mraise\u001b[39;00m DependencyNotInstalled(\u001b[38;5;124m\"\u001b[39m\u001b[38;5;124mbox2D is not installed, run `pip install gym[box2d]`\u001b[39m\u001b[38;5;124m\"\u001b[39m)\n\u001b[1;32m     27\u001b[0m FPS \u001b[38;5;241m=\u001b[39m \u001b[38;5;241m50\u001b[39m\n\u001b[1;32m     28\u001b[0m SCALE \u001b[38;5;241m=\u001b[39m \u001b[38;5;241m30.0\u001b[39m  \u001b[38;5;66;03m# affects how fast-paced the game is, forces should be adjusted as well\u001b[39;00m\n",
      "\u001b[0;31mDependencyNotInstalled\u001b[0m: box2D is not installed, run `pip install gym[box2d]`"
     ]
    }
   ],
   "source": [
    "env = gym.make('LunarLander-v2')"
   ]
  },
  {
   "cell_type": "code",
   "execution_count": null,
   "id": "58c01e71-0db5-4a46-a3ea-55d0e88e528c",
   "metadata": {},
   "outputs": [],
   "source": []
  }
 ],
 "metadata": {
  "kernelspec": {
   "display_name": "Python 3 (ipykernel)",
   "language": "python",
   "name": "python3"
  },
  "language_info": {
   "codemirror_mode": {
    "name": "ipython",
    "version": 3
   },
   "file_extension": ".py",
   "mimetype": "text/x-python",
   "name": "python",
   "nbconvert_exporter": "python",
   "pygments_lexer": "ipython3",
   "version": "3.11.5"
  }
 },
 "nbformat": 4,
 "nbformat_minor": 5
}
